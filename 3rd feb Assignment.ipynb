{
 "cells": [
  {
   "cell_type": "code",
   "execution_count": 1,
   "id": "2cac72aa",
   "metadata": {},
   "outputs": [],
   "source": [
    "#Assignment "
   ]
  },
  {
   "cell_type": "code",
   "execution_count": 107,
   "id": "854a2fe8",
   "metadata": {},
   "outputs": [
    {
     "name": "stdout",
     "output_type": "stream",
     "text": [
      "[1, 3, 5, 7, 9, 11, 13, 15, 17, 19, 21, 23, 25]\n"
     ]
    }
   ],
   "source": [
    "#1. Which keyword is used to create a function? Create a function to return a list of odd numbers in the range of 1 to 25.\n",
    "\n",
    "# Ans  - def is used to create a function.\n",
    "\n",
    "def odd():\n",
    "    l =[]\n",
    "    for i in range(1,26):  #This range(1,26) generates a  generator object of no. from 1 to 25.\n",
    "        if i % 2!=0:\n",
    "            l.append(i)\n",
    "    return l\n",
    "\n",
    "number = odd()\n",
    "print(number)"
   ]
  },
  {
   "cell_type": "code",
   "execution_count": null,
   "id": "6e4d098a",
   "metadata": {},
   "outputs": [],
   "source": [
    "#Q2. Why *args and **kwargs is used in some functions? Create a function each for *args and **kwargs to demonstrate their use.\n",
    "\n",
    "# Ans -  *args and **kwargs are used for dynamic argumenting of non-keyword and keyword arguments, so that function can \n",
    "#         take any no. of arguments from user as the input.\n",
    "        "
   ]
  },
  {
   "cell_type": "code",
   "execution_count": 48,
   "id": "04a1e732",
   "metadata": {},
   "outputs": [],
   "source": [
    "# Demonstration for *args\n",
    "#function for adding n no. and these no. pass as an argument to the function.\n",
    "def sum_up(*args):\n",
    "    sum = 0\n",
    "    for i in args:\n",
    "        sum = sum+i\n",
    "    return(sum)"
   ]
  },
  {
   "cell_type": "code",
   "execution_count": 52,
   "id": "931e532b",
   "metadata": {},
   "outputs": [
    {
     "data": {
      "text/plain": [
       "17"
      ]
     },
     "execution_count": 52,
     "metadata": {},
     "output_type": "execute_result"
    }
   ],
   "source": [
    "sum_up(2,3,4,8)"
   ]
  },
  {
   "cell_type": "code",
   "execution_count": 53,
   "id": "61304202",
   "metadata": {},
   "outputs": [
    {
     "data": {
      "text/plain": [
       "253"
      ]
     },
     "execution_count": 53,
     "metadata": {},
     "output_type": "execute_result"
    }
   ],
   "source": [
    "sum_up(3,67,89,23,1,2,4,56,8)"
   ]
  },
  {
   "cell_type": "code",
   "execution_count": 54,
   "id": "85c368f4",
   "metadata": {},
   "outputs": [],
   "source": [
    "#Now, using *args allow the function to take any no. of argument without explicitly defining the parameters.\n",
    "# This function can sum n no. without explicitly defining the paramter for each and every arguments."
   ]
  },
  {
   "cell_type": "code",
   "execution_count": 57,
   "id": "e53ade32",
   "metadata": {},
   "outputs": [],
   "source": [
    "# Demonstration for *kwargs\n",
    "#FUNCTion for adding the marks of students where student, marks declare as key value pair and pass as an argument to function\n",
    "def sum_up(**kwargs):\n",
    "    sum = 0\n",
    "    for i in kwargs.keys():\n",
    "        sum = sum + kwargs[i]\n",
    "    return(sum)"
   ]
  },
  {
   "cell_type": "code",
   "execution_count": 58,
   "id": "e9c83fa7",
   "metadata": {},
   "outputs": [
    {
     "data": {
      "text/plain": [
       "95"
      ]
     },
     "execution_count": 58,
     "metadata": {},
     "output_type": "execute_result"
    }
   ],
   "source": [
    "sum_up(yash = 45, gaurav = 50)"
   ]
  },
  {
   "cell_type": "code",
   "execution_count": 59,
   "id": "0e4e3a4a",
   "metadata": {},
   "outputs": [
    {
     "data": {
      "text/plain": [
       "151"
      ]
     },
     "execution_count": 59,
     "metadata": {},
     "output_type": "execute_result"
    }
   ],
   "source": [
    "sum_up(yash = 45, gaurav = 50, adeeb = 56)"
   ]
  },
  {
   "cell_type": "code",
   "execution_count": 60,
   "id": "979e7ffb",
   "metadata": {},
   "outputs": [],
   "source": [
    "#Now, using **kwargs allow this function to take any no. of argument without explicitly defining the parameters.\n",
    "# This function can sum marks of any no. of student without explicitly defining the paramter for each and every arguments."
   ]
  },
  {
   "cell_type": "code",
   "execution_count": 61,
   "id": "11cdf6f2",
   "metadata": {},
   "outputs": [],
   "source": [
    "# Q3. What is an iterator in python? Name the method used to initialise the iterator object and the method\n",
    "# used for iteration. Use these methods to print the first five elements of the given list [2, 4, 6, 8, 10, 12, 14,\n",
    "# 16, 18, 20]."
   ]
  },
  {
   "cell_type": "code",
   "execution_count": 96,
   "id": "e58150bc",
   "metadata": {},
   "outputs": [
    {
     "name": "stdout",
     "output_type": "stream",
     "text": [
      "2\n",
      "4\n",
      "6\n",
      "8\n",
      "10\n"
     ]
    }
   ],
   "source": [
    "# ANS- Iterator are object over which we can go from one element to another till we reaches last element of iterable during the loop.\n",
    "#      iter() and next() methods are used to initialize the iterator object and used for iteration respectively.\n",
    "\n",
    "\n",
    "l = list(range(2,22,2))\n",
    "a = iter(l)               ## a is iterator but l is iterable  \n",
    "print(next(a))\n",
    "print(next(a))\n",
    "print(next(a))\n",
    "print(next(a))\n",
    "print(next(a))"
   ]
  },
  {
   "cell_type": "code",
   "execution_count": null,
   "id": "5207f057",
   "metadata": {},
   "outputs": [],
   "source": [
    "# Q4.  What is a generator function in python? Why yield keyword is used? Give an example of a generator function."
   ]
  },
  {
   "cell_type": "code",
   "execution_count": 120,
   "id": "f25cb8f1",
   "metadata": {},
   "outputs": [
    {
     "data": {
      "text/plain": [
       "[-9, -6, -3]"
      ]
     },
     "execution_count": 120,
     "metadata": {},
     "output_type": "execute_result"
    }
   ],
   "source": [
    "#    ANS-      Generator function is the function with keyword \"yield\". We use generator function when we dealt with large no. \n",
    "#              of data sets because generator do not store all the elements in memory at once. \n",
    "#              Instead, the generator loops through the iterables one elements at a time. \n",
    "#              It only stores the current elemnts in memory.\n",
    "\n",
    "\n",
    "#              yield keyword is used to create a generator function. Unlike return() which simply returns value, it returns the \n",
    "#              generator object to the one whole calls the function. It return multiple values\n",
    "\n",
    "#WAP to create a generate function to extract negative number from the given list.\n",
    "x = [4,5,-9,-6,-3,6]\n",
    "def negative():\n",
    "    for i in x:\n",
    "        if i<0:\n",
    "            yield i    ##it generates generator object\n",
    "            \n",
    "list(negative())"
   ]
  },
  {
   "cell_type": "code",
   "execution_count": 189,
   "id": "d7894699",
   "metadata": {},
   "outputs": [
    {
     "name": "stdout",
     "output_type": "stream",
     "text": [
      "2\n",
      "3\n",
      "5\n",
      "7\n",
      "11\n",
      "13\n",
      "17\n",
      "19\n",
      "23\n",
      "29\n",
      "31\n",
      "37\n",
      "41\n",
      "43\n",
      "47\n",
      "53\n",
      "59\n",
      "61\n",
      "67\n",
      "71\n"
     ]
    }
   ],
   "source": [
    "# Q5. Create a generator function for prime numbers less than 1000. Use the next() method to print the first 20 prime numbers.\n",
    "\n",
    "def prime():\n",
    "    for i in range(2,1000):\n",
    "        for j in range(2, i):\n",
    "            if i%j ==0:\n",
    "                break\n",
    "        else:\n",
    "             yield i\n",
    "    \n",
    "z = prime()\n",
    "#first 20 prime no.\n",
    "print(next(z))\n",
    "print(next(z))\n",
    "print(next(z))\n",
    "print(next(z))\n",
    "print(next(z))\n",
    "print(next(z))\n",
    "print(next(z))\n",
    "print(next(z))\n",
    "print(next(z))\n",
    "print(next(z))\n",
    "print(next(z))\n",
    "print(next(z))\n",
    "print(next(z))\n",
    "print(next(z))\n",
    "print(next(z))\n",
    "print(next(z))\n",
    "print(next(z))\n",
    "print(next(z))\n",
    "print(next(z))\n",
    "print(next(z))"
   ]
  },
  {
   "cell_type": "code",
   "execution_count": 188,
   "id": "c2a083cf",
   "metadata": {},
   "outputs": [
    {
     "name": "stdout",
     "output_type": "stream",
     "text": [
      "0\n",
      "1\n",
      "1\n",
      "2\n",
      "3\n",
      "5\n",
      "8\n",
      "13\n",
      "21\n",
      "34\n"
     ]
    }
   ],
   "source": [
    "#Q6. Write a python program to print the first 10 Fibonacci numbers using a while loop\n",
    "\n",
    "def fibo():\n",
    "    a,b = 0,1\n",
    "    i = 1\n",
    "    while(i<=10):\n",
    "        print(a)\n",
    "        c = a+b\n",
    "        a = b\n",
    "        b = c\n",
    "        i = i+1\n",
    "        \n",
    "fibo()\n",
    "        "
   ]
  },
  {
   "cell_type": "code",
   "execution_count": 191,
   "id": "9ac79231",
   "metadata": {},
   "outputs": [
    {
     "name": "stdout",
     "output_type": "stream",
     "text": [
      "['p', 'w', 's', 'k', 'i', 'l', 'l', 's']\n"
     ]
    }
   ],
   "source": [
    "# Q7. Write a List Comprehension to iterate through the given string: ‘pwskills’.\n",
    "\n",
    "l = \"pwskills\"\n",
    "l2 = [i for i in l]\n",
    "print(l2)"
   ]
  },
  {
   "cell_type": "code",
   "execution_count": 203,
   "id": "834897e3",
   "metadata": {},
   "outputs": [
    {
     "name": "stdout",
     "output_type": "stream",
     "text": [
      "Enter Number :4567\n",
      "Not Palindrome No.\n"
     ]
    }
   ],
   "source": [
    "# Q8. Write a python program to check whether a given number is Palindrome or not using a while loop.\n",
    "\n",
    "i = int(input(\"Enter Number :\"))\n",
    "reverse = 0\n",
    "x =i\n",
    "while i>0:\n",
    "    reverse = (reverse*10) + i%10\n",
    "    i = i //10\n",
    "if x == reverse:\n",
    "    print(\"This is Palindrome No.\")\n",
    "else:\n",
    "    print(\"Not Palindrome No.\")"
   ]
  },
  {
   "cell_type": "code",
   "execution_count": 199,
   "id": "c50d1775",
   "metadata": {},
   "outputs": [
    {
     "data": {
      "text/plain": [
       "[1,\n",
       " 3,\n",
       " 5,\n",
       " 7,\n",
       " 9,\n",
       " 11,\n",
       " 13,\n",
       " 15,\n",
       " 17,\n",
       " 19,\n",
       " 21,\n",
       " 23,\n",
       " 25,\n",
       " 27,\n",
       " 29,\n",
       " 31,\n",
       " 33,\n",
       " 35,\n",
       " 37,\n",
       " 39,\n",
       " 41,\n",
       " 43,\n",
       " 45,\n",
       " 47,\n",
       " 49,\n",
       " 51,\n",
       " 53,\n",
       " 55,\n",
       " 57,\n",
       " 59,\n",
       " 61,\n",
       " 63,\n",
       " 65,\n",
       " 67,\n",
       " 69,\n",
       " 71,\n",
       " 73,\n",
       " 75,\n",
       " 77,\n",
       " 79,\n",
       " 81,\n",
       " 83,\n",
       " 85,\n",
       " 87,\n",
       " 89,\n",
       " 91,\n",
       " 93,\n",
       " 95,\n",
       " 97,\n",
       " 99]"
      ]
     },
     "execution_count": 199,
     "metadata": {},
     "output_type": "execute_result"
    }
   ],
   "source": [
    "#Q9. Write a code to print odd numbers from 1 to 100 using list comprehension.\n",
    "\n",
    "l = [i for i in range(1,101)]   #list comprehension to create a list from 1 to 100\n",
    "[x for x in l if x % 2!=0]     #another List comprehension to filter out odd numbers.\n"
   ]
  },
  {
   "cell_type": "code",
   "execution_count": null,
   "id": "1e3063dd",
   "metadata": {},
   "outputs": [],
   "source": []
  },
  {
   "cell_type": "code",
   "execution_count": null,
   "id": "86910c44",
   "metadata": {},
   "outputs": [],
   "source": []
  }
 ],
 "metadata": {
  "kernelspec": {
   "display_name": "Python 3 (ipykernel)",
   "language": "python",
   "name": "python3"
  },
  "language_info": {
   "codemirror_mode": {
    "name": "ipython",
    "version": 3
   },
   "file_extension": ".py",
   "mimetype": "text/x-python",
   "name": "python",
   "nbconvert_exporter": "python",
   "pygments_lexer": "ipython3",
   "version": "3.9.13"
  }
 },
 "nbformat": 4,
 "nbformat_minor": 5
}
